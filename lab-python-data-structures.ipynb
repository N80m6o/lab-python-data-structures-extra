{
 "cells": [
  {
   "cell_type": "markdown",
   "metadata": {},
   "source": [
    "# Lab | Data Structures "
   ]
  },
  {
   "cell_type": "markdown",
   "metadata": {},
   "source": [
    "## Exercise 1: Working with Lists"
   ]
  },
  {
   "cell_type": "markdown",
   "metadata": {},
   "source": [
    "Imagine you are building a program for a teacher who wants to track the progress of their students throughout the semester. The teacher wants to input the grades of each student one by one, and get a summary of their performance. There are in total 5 students. You are tasked with building the program that will allow the teacher to do this easily.\n",
    "\n",
    "The program will prompt the teacher to enter the grades of each student. Once the teacher has entered all the grades, the program will calculate the total sum of the grades and display it on the screen. Then, the program will create a new list by selecting only the grades of the first, third, and fifth students entered by the teacher, and sort them in ascending order.\n",
    "\n",
    "Finally, the program will print out the new list, along with its length and the number of occurrences of the score 5 in the list. This will give the teacher a good overview of the performance of the selected students, and help them identify any potential issues early on."
   ]
  },
  {
   "cell_type": "markdown",
   "metadata": {},
   "source": [
    "*Hint:*\n",
    "- You can use the input() function to ask the user to enter their information.\n",
    "- Look for list methods to perform the tasks. \n",
    "- Remember, it is possible to get a part of the sequence using:\n",
    "\n",
    "    ```python\n",
    "    sequence[x:y:z]\n",
    "    ```\n",
    "    where x, y, z are integers.\n",
    "\n",
    "    The above returns a new sequence with the following characteristics:\n",
    "\n",
    "    - A sequence with the same type as the original (a slice of a list is a list, a slice of a tuple is a tuple, and a slice of a string is a string).\n",
    "    - A sequence with elements from `sequence [x]` to `sequence [y-1]` (does not include a sequence [y]). By skipping `z` elements each time, it can be omitted if ` z = 1`.\n"
   ]
  },
  {
   "cell_type": "markdown",
   "metadata": {},
   "source": [
    "*Recommended External Resources:*\n",
    "- *[Python Lists](https://www.w3schools.com/python/python_lists.asp)*\n",
    "- *[Python List Methods](https://www.w3schools.com/python/python_ref_list.asp)*\n",
    "- *[Python Built-in Functions](https://docs.python.org/3/library/functions.html)*\n"
   ]
  },
  {
   "cell_type": "code",
   "execution_count": 7,
   "metadata": {},
   "outputs": [
    {
     "name": "stdout",
     "output_type": "stream",
     "text": [
      "\n",
      "Total sum of all grades: 204\n",
      "\n",
      "Sorted grades of the 1st, 3rd, and 5th students: [3, 52, 55]\n",
      "Length of the new list: 3\n",
      "Number of occurrences of the score 5: 0\n"
     ]
    }
   ],
   "source": [
    "# Your code here\n",
    "\n",
    "def main():\n",
    "    # Initialize an empty list to store the grades\n",
    "    grades = []\n",
    "\n",
    "    # Prompt the teacher to enter grades for 5 students\n",
    "    for i in range(1, 6):\n",
    "        grade = int(input(f\"Enter the grade for student {i}: \"))\n",
    "        grades.append(grade)\n",
    "\n",
    "    # Calculate the total sum of all grades\n",
    "    total_sum = sum(grades)\n",
    "    print(f\"\\nTotal sum of all grades: {total_sum}\")\n",
    "\n",
    "    # Select the grades of the 1st, 3rd, and 5th students and sort them\n",
    "    selected_grades = grades[0:5:2]\n",
    "    selected_grades.sort()\n",
    "\n",
    "    # Print the sorted list of selected grades\n",
    "    print(f\"\\nSorted grades of the 1st, 3rd, and 5th students: {selected_grades}\")\n",
    "\n",
    "    # Print the length of the new list\n",
    "    length_of_list = len(selected_grades)\n",
    "    print(f\"Length of the new list: {length_of_list}\")\n",
    "\n",
    "    # Count the number of occurrences of the score 5 in the new list\n",
    "    count_of_five = selected_grades.count(5)\n",
    "    print(f\"Number of occurrences of the score 5: {count_of_five}\")\n",
    "\n",
    "if __name__ == \"__main__\":\n",
    "    main()\n"
   ]
  },
  {
   "cell_type": "markdown",
   "metadata": {},
   "source": [
    "## Exercise 2: Tuples"
   ]
  },
  {
   "cell_type": "markdown",
   "metadata": {},
   "source": [
    "Imagine you're running a fruit stand and want to keep track of your inventory. Write a Python program that does the following:\n",
    "\n",
    "- Initializes a tuple with 5 different types of fruit.\n",
    "- Outputs the first and last elements of the tuple, so you can see the full range of fruits the store offers.\n",
    "- Replaces the second element of the tuple with a new fruit that the store has recently received, and prints the updated tuple so you can see the changes.\n",
    "- Concatenates a new tuple containing 2 additional fruits to the original tuple, so you can add them to the store inventory, and prints the resulting tuple to see the updated inventory.\n",
    "- Splits the resulting tuple into 2 tuples of 3 elements each (the first tuple contains the first 3 elements, and the second tuple contains the last 3 elements), so you can organize the inventory more effectively.\n",
    "- Combines the 2 tuples from the previous step with the original tuple into a new tuple, and prints the resulting tuple and its length, so you can see the final inventory after all the changes."
   ]
  },
  {
   "cell_type": "markdown",
   "metadata": {},
   "source": [
    "*Recommended External Resources: [Python Tuples Examples and Methods](https://www.w3schools.com/python/python_tuples.asp)*\n",
    "\n"
   ]
  },
  {
   "cell_type": "code",
   "execution_count": 8,
   "metadata": {},
   "outputs": [
    {
     "name": "stdout",
     "output_type": "stream",
     "text": [
      "First fruit: apple\n",
      "Last fruit: elderberry\n",
      "\n",
      "Updated tuple: ('apple', 'blueberry', 'cherry', 'date', 'elderberry')\n",
      "\n",
      "Concatenated tuple with new fruits: ('apple', 'blueberry', 'cherry', 'date', 'elderberry', 'fig', 'grape')\n",
      "\n",
      "First tuple: ('apple', 'blueberry', 'cherry')\n",
      "Second tuple: ('elderberry', 'fig', 'grape')\n",
      "\n",
      "Final inventory tuple: ('apple', 'blueberry', 'cherry', 'elderberry', 'fig', 'grape', 'apple', 'blueberry', 'cherry', 'date', 'elderberry')\n",
      "Length of the final inventory tuple: 11\n"
     ]
    }
   ],
   "source": [
    "# Your code here\n",
    "\n",
    "def main_tuples():\n",
    "    # Initialize a tuple with 5 different types of fruit\n",
    "    fruits = (\"apple\", \"banana\", \"cherry\", \"date\", \"elderberry\")\n",
    "\n",
    "    # Output the first and last elements of the tuple\n",
    "    print(f\"First fruit: {fruits[0]}\")\n",
    "    print(f\"Last fruit: {fruits[-1]}\")\n",
    "\n",
    "    # Replace the second element with a new fruit\n",
    "    # Tuples are immutable, so we create a new tuple with the updated value\n",
    "    new_fruit = \"blueberry\"\n",
    "    fruits = (fruits[0], new_fruit, fruits[2], fruits[3], fruits[4])\n",
    "    print(f\"\\nUpdated tuple: {fruits}\")\n",
    "\n",
    "    # Concatenate a new tuple containing 2 additional fruits\n",
    "    additional_fruits = (\"fig\", \"grape\")\n",
    "    updated_inventory = fruits + additional_fruits\n",
    "    print(f\"\\nConcatenated tuple with new fruits: {updated_inventory}\")\n",
    "\n",
    "    # Split the resulting tuple into 2 tuples of 3 elements each\n",
    "    tuple1 = updated_inventory[:3]\n",
    "    tuple2 = updated_inventory[-3:]\n",
    "    print(f\"\\nFirst tuple: {tuple1}\")\n",
    "    print(f\"Second tuple: {tuple2}\")\n",
    "\n",
    "    # Combine the 2 tuples with the original tuple into a new tuple\n",
    "    final_inventory = tuple1 + tuple2 + fruits\n",
    "    print(f\"\\nFinal inventory tuple: {final_inventory}\")\n",
    "    print(f\"Length of the final inventory tuple: {len(final_inventory)}\")\n",
    "\n",
    "if __name__ == \"__main__\":\n",
    "    main_tuples()"
   ]
  },
  {
   "cell_type": "markdown",
   "metadata": {},
   "source": [
    "## Exercise 3: Sets"
   ]
  },
  {
   "cell_type": "markdown",
   "metadata": {},
   "source": [
    "Imagine you are a data analyst working for a literature museum. Your manager has given you two poems to analyze, and she wants you to write a Python program to extract useful information from them.\n",
    "\n",
    "Your program should:\n",
    "\n",
    "- Create two sets, one for each poem, containing all unique words in both poems (ignoring case and punctuation).\n",
    "- Print the number of unique words in each set.\n",
    "- Identify and print the unique words present in the first poem but not in the second one.\n",
    "- Identify and print the unique words present in the second poem but not in the first one.\n",
    "- Identify and print the unique words present in both poems and print it in alphabetical order."
   ]
  },
  {
   "cell_type": "markdown",
   "metadata": {},
   "source": [
    "*Recommended External Resources:*\n",
    "- *[Python Sets](https://www.w3schools.com/python/python_sets.asp)* \n",
    "- *[Python Set Methods](https://www.w3schools.com/python/python_ref_set.asp)*\n",
    "- *[Python String Methods](https://www.w3schools.com/python/python_ref_string.asp)*\n"
   ]
  },
  {
   "cell_type": "code",
   "execution_count": 9,
   "metadata": {},
   "outputs": [],
   "source": [
    "poem = \"\"\"Some say the world will end in fire,\n",
    "Some say in ice.\n",
    "From what I’ve tasted of desire\n",
    "I hold with those who favor fire.\n",
    "But if it had to perish twice,\n",
    "I think I know enough of hate\n",
    "To say that for destruction ice\n",
    "Is also great\n",
    "And would suffice.\"\"\"\n",
    "\n",
    "new_poem = \"\"\"Some say life is but a dream,\n",
    "Some say it's a test.\n",
    "From what I've seen and what I deem,\n",
    "I side with those who see it as a quest.\n",
    "\n",
    "But if it had to end today,\n",
    "I think I know enough of love,\n",
    "To say that though it fades away,\n",
    "It's still what we are made of.\"\"\""
   ]
  },
  {
   "cell_type": "code",
   "execution_count": 10,
   "metadata": {},
   "outputs": [
    {
     "name": "stdout",
     "output_type": "stream",
     "text": [
      "Number of unique words in the first poem: 41\n",
      "Number of unique words in the second poem: 42\n",
      "\n",
      "Words unique to the first poem:\n",
      "{'perish', 'great', 'suffice', 'the', 'would', 'hate', 'world', 'fire', 'ice', 'tasted', 'twice', 'desire', 'for', 'also', 'i’ve', 'destruction', 'in', 'will', 'hold', 'favor'}\n",
      "\n",
      "Words unique to the second poem:\n",
      "{'test', 'its', 'fades', 'see', 'still', 'seen', 'love', 'dream', 'though', 'today', 'we', 'side', 'away', 'ive', 'quest', 'are', 'a', 'life', 'made', 'deem', 'as'}\n",
      "\n",
      "Words present in both poems (alphabetically sorted):\n",
      "['and', 'but', 'end', 'enough', 'from', 'had', 'i', 'if', 'is', 'it', 'know', 'of', 'say', 'some', 'that', 'think', 'those', 'to', 'what', 'who', 'with']\n"
     ]
    }
   ],
   "source": [
    "# Your code here\n",
    "\n",
    "import string\n",
    "\n",
    "def clean_and_split(text):\n",
    "    # Convert to lowercase and remove punctuation\n",
    "    text = text.lower().translate(str.maketrans(\"\", \"\", string.punctuation))\n",
    "    # Split the text into words and convert it to a set of unique words\n",
    "    return set(text.split())\n",
    "\n",
    "def analyze_poems(poem1, poem2):\n",
    "    # Create sets of unique words for each poem\n",
    "    set1 = clean_and_split(poem1)\n",
    "    set2 = clean_and_split(poem2)\n",
    "\n",
    "    # Print the number of unique words in each set\n",
    "    print(f\"Number of unique words in the first poem: {len(set1)}\")\n",
    "    print(f\"Number of unique words in the second poem: {len(set2)}\\n\")\n",
    "\n",
    "    # Unique words in the first poem but not in the second\n",
    "    unique_in_first = set1 - set2\n",
    "    print(\"Words unique to the first poem:\")\n",
    "    print(unique_in_first)\n",
    "    print()\n",
    "\n",
    "    # Unique words in the second poem but not in the first\n",
    "    unique_in_second = set2 - set1\n",
    "    print(\"Words unique to the second poem:\")\n",
    "    print(unique_in_second)\n",
    "    print()\n",
    "\n",
    "    # Words present in both poems (intersection), sorted alphabetically\n",
    "    common_words = sorted(set1 & set2)\n",
    "    print(\"Words present in both poems (alphabetically sorted):\")\n",
    "    print(common_words)\n",
    "\n",
    "if __name__ == \"__main__\":\n",
    "    # Example poems\n",
    "    poem1 = \"\"\"Hope is the thing with feathers\n",
    "               That perches in the soul,\n",
    "               And sings the tune without the words,\n",
    "               And never stops at all.\"\"\"\n",
    "\n",
    "    poem2 = \"\"\"Hope is a strange invention—\n",
    "               A Patent of the Heart—\n",
    "               In unremitting action\n",
    "               Yet never wearing out.\"\"\"\n",
    "\n",
    "    analyze_poems(poem, new_poem)"
   ]
  },
  {
   "cell_type": "markdown",
   "metadata": {},
   "source": [
    "## Exercise 4: Dictionaries"
   ]
  },
  {
   "cell_type": "markdown",
   "metadata": {},
   "source": [
    "Consider the following dictionary of students with their scores in different subjects. One of the students, Bob, has complained about his score in Philosophy and, after reviewing it, the teacher has decided to update his score to 100. Write a Python program that updates Bob's score in Philosophy to 100 in the dictionary."
   ]
  },
  {
   "cell_type": "markdown",
   "metadata": {},
   "source": [
    "*Recommended External Resources: [Python Dictionary Examples and Methods](https://www.w3schools.com/python/python_dictionaries.asp)*\n"
   ]
  },
  {
   "cell_type": "code",
   "execution_count": 11,
   "metadata": {},
   "outputs": [],
   "source": [
    "grades = {'Alice': {'Physics': 75, 'Math': 85, 'Chemistry': 60, 'Philosophy': 90}, 'Bob': {'Physics': 75, 'Math': 85, 'Chemistry': 60, 'Philosophy': 90}}"
   ]
  },
  {
   "cell_type": "code",
   "execution_count": null,
   "metadata": {},
   "outputs": [],
   "source": [
    "# Your code here\n",
    "\n",
    "# Print the original scores\n",
    "print(\"Original scores:\")\n",
    "print(grades)\n",
    "\n",
    "# Update Bob's Philosophy score to 100\n",
    "grades[\"Bob\"][\"Philosophy\"] = 100\n",
    "\n",
    "# Print the updated scores\n",
    "print(\"\\nUpdated scores:\")\n",
    "print(grades)"
   ]
  },
  {
   "cell_type": "markdown",
   "metadata": {},
   "source": [
    "## Bonus"
   ]
  },
  {
   "cell_type": "markdown",
   "metadata": {},
   "source": [
    "1. Below are the two lists. Write a Python program to convert them into a dictionary in a way that item from list1 is the key and item from list2 is the value."
   ]
  },
  {
   "cell_type": "markdown",
   "metadata": {},
   "source": [
    "*Hint: Use the zip() function. This function takes two or more iterables (like list, dict, string), aggregates them in a tuple, and returns it. Afterwards, you can use a function that turns a tuple into a dictionary.*"
   ]
  },
  {
   "cell_type": "markdown",
   "metadata": {},
   "source": [
    "*Recommended External Resources: [Python Zip Function](https://www.w3schools.com/python/ref_func_zip.asp)*\n"
   ]
  },
  {
   "cell_type": "code",
   "execution_count": 12,
   "metadata": {},
   "outputs": [
    {
     "name": "stdout",
     "output_type": "stream",
     "text": [
      "{'Physics': 75, 'Math': 85, 'Chemistry': 60, 'Philosophy': 90}\n"
     ]
    }
   ],
   "source": [
    "keys = ['Physics', 'Math', 'Chemistry', 'Philosophy']\n",
    "values = [75, 85, 60,90]\n",
    "\n",
    "# Your code here\n",
    "\n",
    "# Use zip() to pair elements from both lists and convert the result into a dictionary\n",
    "result_dict = dict(zip(keys, values))\n",
    "\n",
    "# Print the resulting dictionary\n",
    "print(result_dict)"
   ]
  },
  {
   "cell_type": "markdown",
   "metadata": {},
   "source": [
    "2. Get the subject with the minimum score from the previous dictionary."
   ]
  },
  {
   "cell_type": "markdown",
   "metadata": {},
   "source": [
    "*Hint: Use the built-in function min(). Read about the parameter key.*"
   ]
  },
  {
   "cell_type": "markdown",
   "metadata": {},
   "source": [
    "\n",
    "*Recommended External Resources:*\n",
    "- *[Python Min Function Official Documentation](https://docs.python.org/3.8/library/functions.html#min)*\n",
    "- *[How to use key function in max and min in Python](https://medium.com/analytics-vidhya/how-to-use-key-function-in-max-and-min-in-python-1fdbd661c59c)*"
   ]
  },
  {
   "cell_type": "code",
   "execution_count": 17,
   "metadata": {},
   "outputs": [
    {
     "name": "stdout",
     "output_type": "stream",
     "text": [
      "The subject with the minimum score is: Chemistry with a score of 60\n"
     ]
    }
   ],
   "source": [
    "# Your code here\n",
    "\n",
    "# Find the subject with the minimum score\n",
    "min_subject = min(result_dict, key=result_dict.get)\n",
    "\n",
    "# Print the subject with the minimum score\n",
    "print(f\"The subject with the minimum score is: {min_subject} with a score of {result_dict[min_subject]}\")"
   ]
  }
 ],
 "metadata": {
  "kernelspec": {
   "display_name": "Python 3 (ipykernel)",
   "language": "python",
   "name": "python3"
  },
  "language_info": {
   "codemirror_mode": {
    "name": "ipython",
    "version": 3
   },
   "file_extension": ".py",
   "mimetype": "text/x-python",
   "name": "python",
   "nbconvert_exporter": "python",
   "pygments_lexer": "ipython3",
   "version": "3.11.7"
  }
 },
 "nbformat": 4,
 "nbformat_minor": 4
}
